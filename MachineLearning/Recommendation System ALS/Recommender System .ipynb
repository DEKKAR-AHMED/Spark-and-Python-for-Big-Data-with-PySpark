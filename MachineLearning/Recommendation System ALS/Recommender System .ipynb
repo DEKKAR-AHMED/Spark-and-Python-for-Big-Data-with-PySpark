{
 "cells": [
  {
   "cell_type": "markdown",
   "metadata": {},
   "source": [
    "# Recommender System "
   ]
  },
  {
   "cell_type": "markdown",
   "metadata": {},
   "source": [
    "- for more details about recommender Systems look for the book Jannach and Zanker\n",
    "- Netflix recammendation example if you want to try using SVD , SVD ++\n",
    "- the two most common types of recommender system are \n",
    "    - Content-Based\n",
    "         - produces recommendation based on the usesr's attitude to items, that is it uses the wisdom of the crowd to recommend items \n",
    "    - Collaborative Filtering  Cf\n",
    "        - focus on the attributes if the items and give you recommendations based on the similarity between them \n",
    "     \n",
    "- in general Collaborative filtering CF is more commonly used than Content Based because it gives better result and easy to understand \n",
    "\n",
    "- theses technique aim to fill the missing value of the user item assoction matrix in way to predict the rate of the movie for example and see if it gonna recommend it for you or not using some threshold \n",
    "\n",
    "\n",
    "\n",
    "- Spark Ml use least squares ALS algorithm to learn latend factors the most difficult part to get readdy your data for such algorithm\n",
    "- ALS is Matrix Factorisation Approch to implement a recommendation algoritm you decompose your large user / item into lower dimensional user factors and item factors "
   ]
  },
  {
   "cell_type": "markdown",
   "metadata": {},
   "source": [
    "# Creating a movie system recommender base en ALS "
   ]
  },
  {
   "cell_type": "code",
   "execution_count": 3,
   "metadata": {},
   "outputs": [],
   "source": [
    "from pyspark.sql import SparkSession\n",
    "spark = SparkSession.builder.appName(\"rec\").getOrCreate()\n",
    "from pyspark.ml.recommendation import ALS\n",
    "from pyspark.ml.evaluation import RegressionEvaluator"
   ]
  },
  {
   "cell_type": "code",
   "execution_count": 9,
   "metadata": {},
   "outputs": [],
   "source": [
    "data = spark.read.csv(\"../Data/movielens_ratings.csv\", header=True, inferSchema=True)"
   ]
  },
  {
   "cell_type": "code",
   "execution_count": 10,
   "metadata": {},
   "outputs": [
    {
     "name": "stdout",
     "output_type": "stream",
     "text": [
      "root\n",
      " |-- movieId: integer (nullable = true)\n",
      " |-- rating: double (nullable = true)\n",
      " |-- userId: integer (nullable = true)\n",
      "\n"
     ]
    }
   ],
   "source": [
    "data.printSchema()"
   ]
  },
  {
   "cell_type": "code",
   "execution_count": 11,
   "metadata": {},
   "outputs": [
    {
     "name": "stdout",
     "output_type": "stream",
     "text": [
      "+-------+------+------+\n",
      "|movieId|rating|userId|\n",
      "+-------+------+------+\n",
      "|      2|   3.0|     0|\n",
      "|      3|   1.0|     0|\n",
      "|      5|   2.0|     0|\n",
      "|      9|   4.0|     0|\n",
      "|     11|   1.0|     0|\n",
      "|     12|   2.0|     0|\n",
      "|     15|   1.0|     0|\n",
      "|     17|   1.0|     0|\n",
      "|     19|   1.0|     0|\n",
      "|     21|   1.0|     0|\n",
      "|     23|   1.0|     0|\n",
      "|     26|   3.0|     0|\n",
      "|     27|   1.0|     0|\n",
      "|     28|   1.0|     0|\n",
      "|     29|   1.0|     0|\n",
      "|     30|   1.0|     0|\n",
      "|     31|   1.0|     0|\n",
      "|     34|   1.0|     0|\n",
      "|     37|   1.0|     0|\n",
      "|     41|   2.0|     0|\n",
      "+-------+------+------+\n",
      "only showing top 20 rows\n",
      "\n"
     ]
    }
   ],
   "source": [
    "data.show()"
   ]
  },
  {
   "cell_type": "code",
   "execution_count": 14,
   "metadata": {},
   "outputs": [
    {
     "name": "stdout",
     "output_type": "stream",
     "text": [
      "+-------+------------------+------------------+------------------+\n",
      "|summary|           movieId|            rating|            userId|\n",
      "+-------+------------------+------------------+------------------+\n",
      "|  count|              1501|              1501|              1501|\n",
      "|   mean| 49.40572951365756|1.7741505662891406|14.383744170552964|\n",
      "| stddev|28.937034065088994| 1.187276166124803| 8.591040424293272|\n",
      "|    min|                 0|               1.0|                 0|\n",
      "|    max|                99|               5.0|                29|\n",
      "+-------+------------------+------------------+------------------+\n",
      "\n"
     ]
    }
   ],
   "source": [
    "data.describe().show()"
   ]
  },
  {
   "cell_type": "code",
   "execution_count": 17,
   "metadata": {},
   "outputs": [],
   "source": [
    "train_data , test_data = data.randomSplit([0.8,0.2])"
   ]
  },
  {
   "cell_type": "code",
   "execution_count": 18,
   "metadata": {},
   "outputs": [],
   "source": [
    "asl = ALS(maxIter=5, regParam=0.01,userCol=\"userId\",ratingCol=\"rating\",itemCol=\"movieId\")"
   ]
  },
  {
   "cell_type": "code",
   "execution_count": 20,
   "metadata": {},
   "outputs": [],
   "source": [
    "model = asl.fit(train_data)"
   ]
  },
  {
   "cell_type": "code",
   "execution_count": 24,
   "metadata": {},
   "outputs": [],
   "source": [
    "predictions = model.transform(test_data)"
   ]
  },
  {
   "cell_type": "code",
   "execution_count": 26,
   "metadata": {},
   "outputs": [
    {
     "name": "stdout",
     "output_type": "stream",
     "text": [
      "+-------+------+------+----------+\n",
      "|movieId|rating|userId|prediction|\n",
      "+-------+------+------+----------+\n",
      "|     31|   1.0|    13| 1.4069265|\n",
      "|     31|   1.0|    19| 2.5479438|\n",
      "|     31|   2.0|    25| 3.0240483|\n",
      "|     31|   3.0|    14| 1.7381967|\n",
      "|     85|   1.0|    13|0.41822946|\n",
      "|     85|   2.0|    20| 1.6716951|\n",
      "|     85|   1.0|     4|  2.906794|\n",
      "|     65|   1.0|    16| 1.4387316|\n",
      "|     65|   2.0|     3| 1.2897922|\n",
      "|     53|   1.0|     6|  1.023263|\n",
      "|     53|   2.0|    19| 1.1276473|\n",
      "|     53|   5.0|     8| 3.9227157|\n",
      "|     53|   1.0|    23| 0.6580797|\n",
      "|     53|   1.0|     7|  3.879508|\n",
      "|     78|   1.0|    28| 0.6351465|\n",
      "|     78|   1.0|     2|0.54923487|\n",
      "|     34|   1.0|    28| 1.5207725|\n",
      "|     34|   1.0|    19| 1.2611029|\n",
      "|     34|   1.0|    17| 2.0133095|\n",
      "|     34|   1.0|    14|   3.17316|\n",
      "+-------+------+------+----------+\n",
      "only showing top 20 rows\n",
      "\n"
     ]
    }
   ],
   "source": [
    "predictions.show()"
   ]
  },
  {
   "cell_type": "markdown",
   "metadata": {},
   "source": [
    "# let Evaluate the models "
   ]
  },
  {
   "cell_type": "code",
   "execution_count": 27,
   "metadata": {},
   "outputs": [],
   "source": [
    "evaluator = RegressionEvaluator(metricName=\"rmse\",labelCol=\"rating\",predictionCol=\"prediction\")"
   ]
  },
  {
   "cell_type": "code",
   "execution_count": 29,
   "metadata": {},
   "outputs": [],
   "source": [
    "rmse = evaluator.evaluate(predictions)"
   ]
  },
  {
   "cell_type": "code",
   "execution_count": 31,
   "metadata": {},
   "outputs": [
    {
     "name": "stdout",
     "output_type": "stream",
     "text": [
      "RMSE\n"
     ]
    },
    {
     "data": {
      "text/plain": [
       "1.995735419549549"
      ]
     },
     "execution_count": 31,
     "metadata": {},
     "output_type": "execute_result"
    }
   ],
   "source": [
    "print(\"RMSE\")\n",
    "rmse"
   ]
  },
  {
   "cell_type": "code",
   "execution_count": 32,
   "metadata": {},
   "outputs": [],
   "source": [
    "# if we want to imporve this result the subject a little complecated we need to go in deep in mathmematical thing "
   ]
  },
  {
   "cell_type": "code",
   "execution_count": 40,
   "metadata": {},
   "outputs": [],
   "source": [
    "singler_user = test_data.filter(test_data[\"userId\"] ==11).select([\"movieId\",\"userId\"])"
   ]
  },
  {
   "cell_type": "code",
   "execution_count": 41,
   "metadata": {},
   "outputs": [
    {
     "name": "stdout",
     "output_type": "stream",
     "text": [
      "+-------+------+\n",
      "|movieId|userId|\n",
      "+-------+------+\n",
      "|      0|    11|\n",
      "|     10|    11|\n",
      "|     13|    11|\n",
      "|     16|    11|\n",
      "|     18|    11|\n",
      "|     22|    11|\n",
      "|     48|    11|\n",
      "|     50|    11|\n",
      "|     51|    11|\n",
      "|     67|    11|\n",
      "|     76|    11|\n",
      "+-------+------+\n",
      "\n"
     ]
    }
   ],
   "source": [
    "singler_user.show()"
   ]
  },
  {
   "cell_type": "code",
   "execution_count": 47,
   "metadata": {},
   "outputs": [],
   "source": [
    "# we want to know if for his single use the prediction of his rating movies to see if we can extract\n",
    "# recommendation \n",
    "recommendation = model.transform(singler_user)"
   ]
  },
  {
   "cell_type": "code",
   "execution_count": 48,
   "metadata": {},
   "outputs": [
    {
     "name": "stdout",
     "output_type": "stream",
     "text": [
      "+-------+------+----------+\n",
      "|movieId|userId|prediction|\n",
      "+-------+------+----------+\n",
      "|     76|    11| 3.2415826|\n",
      "|     18|    11| 3.2364187|\n",
      "|     51|    11| 2.3619936|\n",
      "|     13|    11| 2.3533688|\n",
      "|     50|    11| 2.3429482|\n",
      "|     10|    11| 2.0083745|\n",
      "|      0|    11| 1.4527268|\n",
      "|     22|    11| 1.3885461|\n",
      "|     67|    11| 1.1777387|\n",
      "|     48|    11| 0.4346084|\n",
      "|     16|    11|0.36645466|\n",
      "+-------+------+----------+\n",
      "\n"
     ]
    }
   ],
   "source": [
    "recommendation.orderBy(\"prediction\",ascending= False).show()"
   ]
  },
  {
   "cell_type": "code",
   "execution_count": null,
   "metadata": {},
   "outputs": [],
   "source": []
  }
 ],
 "metadata": {
  "kernelspec": {
   "display_name": "Python 3",
   "language": "python",
   "name": "python3"
  },
  "language_info": {
   "codemirror_mode": {
    "name": "ipython",
    "version": 3
   },
   "file_extension": ".py",
   "mimetype": "text/x-python",
   "name": "python",
   "nbconvert_exporter": "python",
   "pygments_lexer": "ipython3",
   "version": "3.6.9"
  }
 },
 "nbformat": 4,
 "nbformat_minor": 4
}
